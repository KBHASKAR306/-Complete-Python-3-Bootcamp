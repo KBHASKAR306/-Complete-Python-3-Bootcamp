{
 "cells": [
  {
   "cell_type": "markdown",
   "id": "5a42948e",
   "metadata": {},
   "source": [
    "# While Loops"
   ]
  },
  {
   "cell_type": "code",
   "execution_count": 1,
   "id": "41da0c47",
   "metadata": {},
   "outputs": [
    {
     "name": "stdout",
     "output_type": "stream",
     "text": [
      "x is currently:  0\n",
      " x is still less than 10,  adding 1 to x\n",
      "x is currently:  1\n",
      " x is still less than 10,  adding 1 to x\n",
      "x is currently:  2\n",
      " x is still less than 10,  adding 1 to x\n",
      "x is currently:  3\n",
      " x is still less than 10,  adding 1 to x\n",
      "x is currently:  4\n",
      " x is still less than 10,  adding 1 to x\n",
      "x is currently:  5\n",
      " x is still less than 10,  adding 1 to x\n",
      "x is currently:  6\n",
      " x is still less than 10,  adding 1 to x\n",
      "x is currently:  7\n",
      " x is still less than 10,  adding 1 to x\n",
      "x is currently:  8\n",
      " x is still less than 10,  adding 1 to x\n",
      "x is currently:  9\n",
      " x is still less than 10,  adding 1 to x\n"
     ]
    }
   ],
   "source": [
    "x = 0\n",
    "\n",
    "while x < 10:\n",
    "    print('x is currently: ',x)\n",
    "    print(' x is still less than 10,  adding 1 to x')\n",
    "    x += 1"
   ]
  },
  {
   "cell_type": "code",
   "execution_count": 2,
   "id": "68fec8c8",
   "metadata": {},
   "outputs": [
    {
     "name": "stdout",
     "output_type": "stream",
     "text": [
      "x is currently:  0\n",
      " x is still less than 10,  adding 1 to x\n",
      "x is currently:  1\n",
      " x is still less than 10,  adding 1 to x\n",
      "x is currently:  2\n",
      " x is still less than 10,  adding 1 to x\n",
      "x is currently:  3\n",
      " x is still less than 10,  adding 1 to x\n",
      "x is currently:  4\n",
      " x is still less than 10,  adding 1 to x\n",
      "x is currently:  5\n",
      " x is still less than 10,  adding 1 to x\n",
      "x is currently:  6\n",
      " x is still less than 10,  adding 1 to x\n",
      "x is currently:  7\n",
      " x is still less than 10,  adding 1 to x\n",
      "x is currently:  8\n",
      " x is still less than 10,  adding 1 to x\n",
      "x is currently:  9\n",
      " x is still less than 10,  adding 1 to x\n",
      "All Done!\n"
     ]
    }
   ],
   "source": [
    "x = 0\n",
    "\n",
    "while x < 10:\n",
    "    print('x is currently: ',x)\n",
    "    print(' x is still less than 10,  adding 1 to x')\n",
    "    x += 1\n",
    "    \n",
    "else:\n",
    "    print('All Done!')"
   ]
  },
  {
   "cell_type": "markdown",
   "id": "d177ea79",
   "metadata": {},
   "source": [
    "### break, continue, pass"
   ]
  },
  {
   "cell_type": "code",
   "execution_count": 3,
   "id": "763cee81",
   "metadata": {},
   "outputs": [
    {
     "name": "stdout",
     "output_type": "stream",
     "text": [
      "x is currently:  0\n",
      " x is still less than 10,  adding 1 to x\n",
      "continuing...\n",
      "x is currently:  1\n",
      " x is still less than 10,  adding 1 to x\n",
      "continuing...\n",
      "x is currently:  2\n",
      " x is still less than 10,  adding 1 to x\n",
      "x==3\n",
      "x is currently:  3\n",
      " x is still less than 10,  adding 1 to x\n",
      "continuing...\n",
      "x is currently:  4\n",
      " x is still less than 10,  adding 1 to x\n",
      "continuing...\n",
      "x is currently:  5\n",
      " x is still less than 10,  adding 1 to x\n",
      "continuing...\n",
      "x is currently:  6\n",
      " x is still less than 10,  adding 1 to x\n",
      "continuing...\n",
      "x is currently:  7\n",
      " x is still less than 10,  adding 1 to x\n",
      "continuing...\n",
      "x is currently:  8\n",
      " x is still less than 10,  adding 1 to x\n",
      "continuing...\n",
      "x is currently:  9\n",
      " x is still less than 10,  adding 1 to x\n",
      "continuing...\n"
     ]
    }
   ],
   "source": [
    "x = 0\n",
    "\n",
    "while x < 10:\n",
    "    print('x is currently: ',x)\n",
    "    print(' x is still less than 10,  adding 1 to x')\n",
    "    x += 1\n",
    "    if x == 3:\n",
    "        print('x==3')\n",
    "    else:\n",
    "        print('continuing...')\n",
    "        continue"
   ]
  },
  {
   "cell_type": "code",
   "execution_count": 4,
   "id": "f3fbf986",
   "metadata": {},
   "outputs": [
    {
     "name": "stdout",
     "output_type": "stream",
     "text": [
      "x is currently:  0\n",
      " x is still less than 10,  adding 1 to x\n",
      "continuing...\n",
      "x is currently:  1\n",
      " x is still less than 10,  adding 1 to x\n",
      "continuing...\n",
      "x is currently:  2\n",
      " x is still less than 10,  adding 1 to x\n",
      "Breaking because x==3\n"
     ]
    }
   ],
   "source": [
    "x = 0\n",
    "\n",
    "while x < 10:\n",
    "    print('x is currently: ',x)\n",
    "    print(' x is still less than 10,  adding 1 to x')\n",
    "    x += 1\n",
    "    if x == 3:\n",
    "        print('Breaking because x==3')\n",
    "        break\n",
    "    else:\n",
    "        print('continuing...')\n",
    "        continue"
   ]
  },
  {
   "cell_type": "code",
   "execution_count": null,
   "id": "60bbf8c1",
   "metadata": {},
   "outputs": [],
   "source": [
    "# DO NOT RUN THIS CODE!!!! \n",
    "while True:\n",
    "    print(\"I'm stuck in an infinite loop!\")"
   ]
  }
 ],
 "metadata": {
  "kernelspec": {
   "display_name": "Python 3 (ipykernel)",
   "language": "python",
   "name": "python3"
  },
  "language_info": {
   "codemirror_mode": {
    "name": "ipython",
    "version": 3
   },
   "file_extension": ".py",
   "mimetype": "text/x-python",
   "name": "python",
   "nbconvert_exporter": "python",
   "pygments_lexer": "ipython3",
   "version": "3.10.7"
  }
 },
 "nbformat": 4,
 "nbformat_minor": 5
}
