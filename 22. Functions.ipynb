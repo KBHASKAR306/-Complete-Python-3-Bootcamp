{
 "cells": [
  {
   "cell_type": "markdown",
   "id": "f687482f",
   "metadata": {},
   "source": [
    "# Functions"
   ]
  },
  {
   "cell_type": "markdown",
   "id": "4223b01d",
   "metadata": {},
   "source": [
    "### def keyword"
   ]
  },
  {
   "cell_type": "code",
   "execution_count": 1,
   "id": "6211b1bd",
   "metadata": {},
   "outputs": [],
   "source": [
    "def name_of_function(arg1,arg2):\n",
    "    '''\n",
    "    This is where the function's Document String (docstring) goes.\n",
    "    When you call help() on your function it will be printed out.\n",
    "    '''\n",
    "    # Do stuff here\n",
    "    # Return desired result"
   ]
  },
  {
   "cell_type": "markdown",
   "id": "8888143a",
   "metadata": {},
   "source": [
    "### Simple example of a function"
   ]
  },
  {
   "cell_type": "code",
   "execution_count": 2,
   "id": "3753da78",
   "metadata": {},
   "outputs": [],
   "source": [
    "def say_hello():\n",
    "    print('hello')"
   ]
  },
  {
   "cell_type": "markdown",
   "id": "1b2d9f5b",
   "metadata": {},
   "source": [
    "### Calling a function with ()"
   ]
  },
  {
   "cell_type": "code",
   "execution_count": 3,
   "id": "207e6a3b",
   "metadata": {},
   "outputs": [
    {
     "name": "stdout",
     "output_type": "stream",
     "text": [
      "hello\n"
     ]
    }
   ],
   "source": [
    "say_hello()"
   ]
  },
  {
   "cell_type": "code",
   "execution_count": 4,
   "id": "8b0a0c15",
   "metadata": {},
   "outputs": [
    {
     "data": {
      "text/plain": [
       "<function __main__.say_hello()>"
      ]
     },
     "execution_count": 4,
     "metadata": {},
     "output_type": "execute_result"
    }
   ],
   "source": [
    "say_hello"
   ]
  },
  {
   "cell_type": "markdown",
   "id": "321b12eb",
   "metadata": {},
   "source": [
    "### Accepting parameters (arguments)"
   ]
  },
  {
   "cell_type": "code",
   "execution_count": 5,
   "id": "153bedf5",
   "metadata": {},
   "outputs": [],
   "source": [
    "def greeting(name):\n",
    "    print(f'Hello {name}')"
   ]
  },
  {
   "cell_type": "code",
   "execution_count": 6,
   "id": "eb159d55",
   "metadata": {},
   "outputs": [
    {
     "name": "stdout",
     "output_type": "stream",
     "text": [
      "Hello Bhaskar\n"
     ]
    }
   ],
   "source": [
    "greeting('Bhaskar')"
   ]
  },
  {
   "cell_type": "markdown",
   "id": "70aaa48c",
   "metadata": {},
   "source": [
    "### Using return"
   ]
  },
  {
   "cell_type": "markdown",
   "id": "e188a62d",
   "metadata": {},
   "source": [
    "#### Example: Addition function"
   ]
  },
  {
   "cell_type": "code",
   "execution_count": 7,
   "id": "f92f1018",
   "metadata": {},
   "outputs": [],
   "source": [
    "def add_num(num1,num2):\n",
    "    return num1+num2"
   ]
  },
  {
   "cell_type": "code",
   "execution_count": 8,
   "id": "ee0c5adf",
   "metadata": {},
   "outputs": [
    {
     "data": {
      "text/plain": [
       "14"
      ]
     },
     "execution_count": 8,
     "metadata": {},
     "output_type": "execute_result"
    }
   ],
   "source": [
    "add_num(5,9)"
   ]
  },
  {
   "cell_type": "code",
   "execution_count": 9,
   "id": "d3fb09fb",
   "metadata": {},
   "outputs": [],
   "source": [
    "# Can also save as variable due to return\n",
    "result = add_num(7, 19)"
   ]
  },
  {
   "cell_type": "code",
   "execution_count": 10,
   "id": "85ecae40",
   "metadata": {},
   "outputs": [
    {
     "name": "stdout",
     "output_type": "stream",
     "text": [
      "26\n"
     ]
    }
   ],
   "source": [
    "print(result)"
   ]
  },
  {
   "cell_type": "code",
   "execution_count": 11,
   "id": "d3cc5bf5",
   "metadata": {},
   "outputs": [
    {
     "data": {
      "text/plain": [
       "'onetwo'"
      ]
     },
     "execution_count": 11,
     "metadata": {},
     "output_type": "execute_result"
    }
   ],
   "source": [
    "add_num('one','two')"
   ]
  },
  {
   "cell_type": "markdown",
   "id": "06b35c40",
   "metadata": {},
   "source": [
    "### Very Common Question: \"What is the difference between return and print?\""
   ]
  },
  {
   "cell_type": "markdown",
   "id": "e7e20a43",
   "metadata": {},
   "source": [
    "##### The return keyword allows you to actually save the result of the output of a function as a variable. The print() function simply displays the output to you, but doesn't save it for future use. Let's explore this in more detail"
   ]
  },
  {
   "cell_type": "code",
   "execution_count": 12,
   "id": "718c37aa",
   "metadata": {},
   "outputs": [],
   "source": [
    "def print_result(a,b):\n",
    "    print(a+b)"
   ]
  },
  {
   "cell_type": "code",
   "execution_count": 13,
   "id": "3e122049",
   "metadata": {},
   "outputs": [],
   "source": [
    "def return_result(a,b):\n",
    "    return a+b"
   ]
  },
  {
   "cell_type": "code",
   "execution_count": 15,
   "id": "4e9937db",
   "metadata": {},
   "outputs": [
    {
     "name": "stdout",
     "output_type": "stream",
     "text": [
      "44\n"
     ]
    }
   ],
   "source": [
    "print_result(17,27)"
   ]
  },
  {
   "cell_type": "code",
   "execution_count": 16,
   "id": "55298a76",
   "metadata": {},
   "outputs": [
    {
     "data": {
      "text/plain": [
       "94"
      ]
     },
     "execution_count": 16,
     "metadata": {},
     "output_type": "execute_result"
    }
   ],
   "source": [
    "# You won't see any output if you run this in a .py script\n",
    "return_result(47,47)"
   ]
  },
  {
   "cell_type": "markdown",
   "id": "f9ded5c3",
   "metadata": {},
   "source": [
    "#### But what happens if we actually want to save this result for later use?"
   ]
  },
  {
   "cell_type": "code",
   "execution_count": 17,
   "id": "fb85a914",
   "metadata": {},
   "outputs": [
    {
     "name": "stdout",
     "output_type": "stream",
     "text": [
      "106\n"
     ]
    }
   ],
   "source": [
    "my_result = print_result(37,69)"
   ]
  },
  {
   "cell_type": "code",
   "execution_count": 18,
   "id": "b49b73e5",
   "metadata": {},
   "outputs": [],
   "source": [
    "my_result"
   ]
  },
  {
   "cell_type": "code",
   "execution_count": 19,
   "id": "be7a9a6e",
   "metadata": {},
   "outputs": [
    {
     "data": {
      "text/plain": [
       "NoneType"
      ]
     },
     "execution_count": 19,
     "metadata": {},
     "output_type": "execute_result"
    }
   ],
   "source": [
    "type(my_result)"
   ]
  },
  {
   "cell_type": "markdown",
   "id": "3828a828",
   "metadata": {},
   "source": [
    "##### Be careful! Notice how print_result() doesn't let you actually save the result to a variable! It only prints it out, with print() returning None for the assignment!"
   ]
  },
  {
   "cell_type": "code",
   "execution_count": 20,
   "id": "f2ef3707",
   "metadata": {},
   "outputs": [],
   "source": [
    "my_result = return_result(47,68)"
   ]
  },
  {
   "cell_type": "code",
   "execution_count": 21,
   "id": "40b00937",
   "metadata": {},
   "outputs": [
    {
     "data": {
      "text/plain": [
       "115"
      ]
     },
     "execution_count": 21,
     "metadata": {},
     "output_type": "execute_result"
    }
   ],
   "source": [
    "my_result"
   ]
  },
  {
   "cell_type": "code",
   "execution_count": 22,
   "id": "39ca673f",
   "metadata": {},
   "outputs": [
    {
     "data": {
      "text/plain": [
       "int"
      ]
     },
     "execution_count": 22,
     "metadata": {},
     "output_type": "execute_result"
    }
   ],
   "source": [
    "type(my_result)"
   ]
  },
  {
   "cell_type": "code",
   "execution_count": 23,
   "id": "b2304100",
   "metadata": {},
   "outputs": [
    {
     "data": {
      "text/plain": [
       "230"
      ]
     },
     "execution_count": 23,
     "metadata": {},
     "output_type": "execute_result"
    }
   ],
   "source": [
    "my_result + my_result"
   ]
  },
  {
   "cell_type": "markdown",
   "id": "a34575be",
   "metadata": {},
   "source": [
    "### Adding Logic to Internal Function Operations"
   ]
  },
  {
   "cell_type": "markdown",
   "id": "c848096f",
   "metadata": {},
   "source": [
    "#### Check if a number is even"
   ]
  },
  {
   "cell_type": "markdown",
   "id": "5725fc72",
   "metadata": {},
   "source": [
    "##### Recall the mod operator % which returns the remainder after division, if a number is even then mod 2 (% 2) should be == to zero."
   ]
  },
  {
   "cell_type": "code",
   "execution_count": 24,
   "id": "4810b7e4",
   "metadata": {},
   "outputs": [
    {
     "data": {
      "text/plain": [
       "0"
      ]
     },
     "execution_count": 24,
     "metadata": {},
     "output_type": "execute_result"
    }
   ],
   "source": [
    "2 % 2 "
   ]
  },
  {
   "cell_type": "code",
   "execution_count": 25,
   "id": "aac047dc",
   "metadata": {},
   "outputs": [
    {
     "data": {
      "text/plain": [
       "0"
      ]
     },
     "execution_count": 25,
     "metadata": {},
     "output_type": "execute_result"
    }
   ],
   "source": [
    "20 % 2"
   ]
  },
  {
   "cell_type": "code",
   "execution_count": 26,
   "id": "bee7d2a1",
   "metadata": {},
   "outputs": [
    {
     "data": {
      "text/plain": [
       "1"
      ]
     },
     "execution_count": 26,
     "metadata": {},
     "output_type": "execute_result"
    }
   ],
   "source": [
    "21 % 2"
   ]
  },
  {
   "cell_type": "code",
   "execution_count": 27,
   "id": "1f49af9d",
   "metadata": {},
   "outputs": [
    {
     "data": {
      "text/plain": [
       "True"
      ]
     },
     "execution_count": 27,
     "metadata": {},
     "output_type": "execute_result"
    }
   ],
   "source": [
    "20 % 2 == 0"
   ]
  },
  {
   "cell_type": "code",
   "execution_count": 28,
   "id": "acbc566f",
   "metadata": {},
   "outputs": [
    {
     "data": {
      "text/plain": [
       "False"
      ]
     },
     "execution_count": 28,
     "metadata": {},
     "output_type": "execute_result"
    }
   ],
   "source": [
    "21 % 2 == 0"
   ]
  },
  {
   "cell_type": "code",
   "execution_count": 29,
   "id": "a8af70b0",
   "metadata": {},
   "outputs": [],
   "source": [
    "def even_check(number):\n",
    "    return number % 2 == 0"
   ]
  },
  {
   "cell_type": "code",
   "execution_count": 30,
   "id": "faebfb23",
   "metadata": {},
   "outputs": [
    {
     "data": {
      "text/plain": [
       "True"
      ]
     },
     "execution_count": 30,
     "metadata": {},
     "output_type": "execute_result"
    }
   ],
   "source": [
    "even_check(20)"
   ]
  },
  {
   "cell_type": "code",
   "execution_count": 31,
   "id": "e5e7931f",
   "metadata": {},
   "outputs": [
    {
     "data": {
      "text/plain": [
       "False"
      ]
     },
     "execution_count": 31,
     "metadata": {},
     "output_type": "execute_result"
    }
   ],
   "source": [
    "even_check(21)"
   ]
  },
  {
   "cell_type": "markdown",
   "id": "4514fdd0",
   "metadata": {},
   "source": [
    "### Check if any number in a list is even"
   ]
  },
  {
   "cell_type": "code",
   "execution_count": 32,
   "id": "055f444b",
   "metadata": {},
   "outputs": [],
   "source": [
    "def check_even_list(num_list):\n",
    "    # Go through each number\n",
    "    for number in num_list:\n",
    "        # Once we get a \"hit\" on an even number, we return True\n",
    "        if number % 2 == 0:\n",
    "            return True\n",
    "        # Otherwise we don't do anything\n",
    "        else:\n",
    "            pass"
   ]
  },
  {
   "cell_type": "code",
   "execution_count": 33,
   "id": "9a827616",
   "metadata": {},
   "outputs": [
    {
     "data": {
      "text/plain": [
       "True"
      ]
     },
     "execution_count": 33,
     "metadata": {},
     "output_type": "execute_result"
    }
   ],
   "source": [
    "check_even_list([1,2,3,4,5,6,7,8,9,10])"
   ]
  },
  {
   "cell_type": "code",
   "execution_count": 34,
   "id": "ce862cc5",
   "metadata": {},
   "outputs": [],
   "source": [
    "check_even_list([1,3,5,7,9])"
   ]
  },
  {
   "cell_type": "code",
   "execution_count": 35,
   "id": "0d37aca5",
   "metadata": {},
   "outputs": [],
   "source": [
    "def check_even_list(num_list):\n",
    "    # Go through each number\n",
    "    for number in num_list:\n",
    "        # Once we get a \"hit\" on an even number, we return True\n",
    "        if number % 2 == 0:\n",
    "            return True\n",
    "        # This is WRONG! This returns False at the very first odd number!\n",
    "        # It doesn't end up checking the other numbers in the list!\n",
    "        else:\n",
    "            return False"
   ]
  },
  {
   "cell_type": "code",
   "execution_count": 36,
   "id": "016b472e",
   "metadata": {},
   "outputs": [
    {
     "data": {
      "text/plain": [
       "False"
      ]
     },
     "execution_count": 36,
     "metadata": {},
     "output_type": "execute_result"
    }
   ],
   "source": [
    "# UH OH! It is returning False after hitting the first 1\n",
    "check_even_list([1,2,3,4,5,6,7,8,9,10])"
   ]
  },
  {
   "cell_type": "code",
   "execution_count": 37,
   "id": "753e7d90",
   "metadata": {},
   "outputs": [],
   "source": [
    "def check_even_list(num_list):\n",
    "    # Go through each number\n",
    "    for number in num_list:\n",
    "        # Once we get a \"hit\" on an even number, we return True\n",
    "        if number % 2 == 0:\n",
    "            return True\n",
    "        # Don't do anything if its not even\n",
    "        else:\n",
    "            pass\n",
    "    # Notice the indentation! This ensures we run through the entire for loop\n",
    "    return False"
   ]
  },
  {
   "cell_type": "code",
   "execution_count": 38,
   "id": "d8e174a4",
   "metadata": {},
   "outputs": [
    {
     "data": {
      "text/plain": [
       "True"
      ]
     },
     "execution_count": 38,
     "metadata": {},
     "output_type": "execute_result"
    }
   ],
   "source": [
    "check_even_list([1,2,3])"
   ]
  },
  {
   "cell_type": "code",
   "execution_count": 39,
   "id": "b97b6326",
   "metadata": {},
   "outputs": [
    {
     "data": {
      "text/plain": [
       "False"
      ]
     },
     "execution_count": 39,
     "metadata": {},
     "output_type": "execute_result"
    }
   ],
   "source": [
    "check_even_list([1,3,5])"
   ]
  },
  {
   "cell_type": "markdown",
   "id": "86777c6a",
   "metadata": {},
   "source": [
    "### Return all even numbers in a list"
   ]
  },
  {
   "cell_type": "code",
   "execution_count": 40,
   "id": "229b8652",
   "metadata": {},
   "outputs": [],
   "source": [
    "def check_even_list(num_list):\n",
    "    \n",
    "    even_numbers = []\n",
    "    \n",
    "    # Go through each number\n",
    "    for number in num_list:\n",
    "        # Once we get a \"hit\" on an even number, we append the even number\n",
    "        if number % 2 == 0:\n",
    "            even_numbers.append(number)\n",
    "        # Don't do anything if its not even\n",
    "        else:\n",
    "            pass\n",
    "    # Notice the indentation! This ensures we run through the entire for loop\n",
    "    return even_numbers"
   ]
  },
  {
   "cell_type": "code",
   "execution_count": 42,
   "id": "660f6dea",
   "metadata": {},
   "outputs": [
    {
     "data": {
      "text/plain": [
       "[2, 4, 6, 8, 10]"
      ]
     },
     "execution_count": 42,
     "metadata": {},
     "output_type": "execute_result"
    }
   ],
   "source": [
    "check_even_list([1,2,3,4,5,6,7,8,9,10])"
   ]
  },
  {
   "cell_type": "code",
   "execution_count": 43,
   "id": "836248e1",
   "metadata": {},
   "outputs": [
    {
     "data": {
      "text/plain": [
       "[]"
      ]
     },
     "execution_count": 43,
     "metadata": {},
     "output_type": "execute_result"
    }
   ],
   "source": [
    "check_even_list([1,3,5])"
   ]
  },
  {
   "cell_type": "markdown",
   "id": "bb4a5e4f",
   "metadata": {},
   "source": [
    "### Returning Tuples for Unpacking"
   ]
  },
  {
   "cell_type": "code",
   "execution_count": 44,
   "id": "78713d27",
   "metadata": {},
   "outputs": [],
   "source": [
    "stock_prices = [('AAPL',200),('GOOG',300),('MSFT',400)]"
   ]
  },
  {
   "cell_type": "code",
   "execution_count": 45,
   "id": "b4eeb98e",
   "metadata": {},
   "outputs": [
    {
     "name": "stdout",
     "output_type": "stream",
     "text": [
      "('AAPL', 200)\n",
      "('GOOG', 300)\n",
      "('MSFT', 400)\n"
     ]
    }
   ],
   "source": [
    "for item in stock_prices:\n",
    "    print(item)"
   ]
  },
  {
   "cell_type": "code",
   "execution_count": 46,
   "id": "6cdbe525",
   "metadata": {},
   "outputs": [
    {
     "name": "stdout",
     "output_type": "stream",
     "text": [
      "AAPL\n",
      "GOOG\n",
      "MSFT\n"
     ]
    }
   ],
   "source": [
    "for stock,price in stock_prices:\n",
    "    print(stock)"
   ]
  },
  {
   "cell_type": "code",
   "execution_count": 47,
   "id": "02f68744",
   "metadata": {},
   "outputs": [
    {
     "name": "stdout",
     "output_type": "stream",
     "text": [
      "200\n",
      "300\n",
      "400\n"
     ]
    }
   ],
   "source": [
    "for stock,price in stock_prices:\n",
    "    print(price)"
   ]
  },
  {
   "cell_type": "markdown",
   "id": "b8bbf413",
   "metadata": {},
   "source": [
    "### Similarly, functions often return tuples, to easily return multiple results for later use."
   ]
  },
  {
   "cell_type": "code",
   "execution_count": 48,
   "id": "5adb3f32",
   "metadata": {},
   "outputs": [],
   "source": [
    "work_hours = [('Abby',100),('Billy',400),('Cassie',800)]"
   ]
  },
  {
   "cell_type": "code",
   "execution_count": 49,
   "id": "acfdf986",
   "metadata": {},
   "outputs": [],
   "source": [
    "def employee_check(work_hours):\n",
    "    \n",
    "    # Set some max value to intially beat, like zero hours\n",
    "    current_max = 0\n",
    "    # Set some empty value before the loop\n",
    "    employee_of_month = ''\n",
    "    \n",
    "    for employee,hours in work_hours:\n",
    "        if hours > current_max:\n",
    "            current_max = hours\n",
    "            employee_of_month = employee\n",
    "        else:\n",
    "            pass\n",
    "        \n",
    "    # Notice the indentation here\n",
    "    return (employee_of_month, current_max)    "
   ]
  },
  {
   "cell_type": "code",
   "execution_count": 50,
   "id": "dcbf3c2d",
   "metadata": {},
   "outputs": [
    {
     "data": {
      "text/plain": [
       "('Cassie', 800)"
      ]
     },
     "execution_count": 50,
     "metadata": {},
     "output_type": "execute_result"
    }
   ],
   "source": [
    "employee_check(work_hours)"
   ]
  },
  {
   "cell_type": "markdown",
   "id": "7aee9ece",
   "metadata": {},
   "source": [
    "### Interactions between functions"
   ]
  },
  {
   "cell_type": "markdown",
   "id": "2a677398",
   "metadata": {},
   "source": [
    "##### How to shuffle a list in Python"
   ]
  },
  {
   "cell_type": "code",
   "execution_count": 51,
   "id": "a3c96894",
   "metadata": {},
   "outputs": [],
   "source": [
    "example = [1,2,3,4,5]"
   ]
  },
  {
   "cell_type": "code",
   "execution_count": 52,
   "id": "339ffbfa",
   "metadata": {},
   "outputs": [],
   "source": [
    "from random import shuffle"
   ]
  },
  {
   "cell_type": "code",
   "execution_count": 53,
   "id": "bd42da57",
   "metadata": {},
   "outputs": [],
   "source": [
    "# Note shuffle is in-place\n",
    "shuffle(example)"
   ]
  },
  {
   "cell_type": "code",
   "execution_count": 54,
   "id": "e2ef5aec",
   "metadata": {},
   "outputs": [
    {
     "data": {
      "text/plain": [
       "[5, 3, 1, 4, 2]"
      ]
     },
     "execution_count": 54,
     "metadata": {},
     "output_type": "execute_result"
    }
   ],
   "source": [
    "example"
   ]
  },
  {
   "cell_type": "markdown",
   "id": "a13a3bdf",
   "metadata": {},
   "source": [
    "##### OK, let's create our simple game"
   ]
  },
  {
   "cell_type": "code",
   "execution_count": 55,
   "id": "05c734a1",
   "metadata": {},
   "outputs": [],
   "source": [
    "mylist = [' ','O',' ']"
   ]
  },
  {
   "cell_type": "code",
   "execution_count": 56,
   "id": "1ee15c88",
   "metadata": {},
   "outputs": [],
   "source": [
    "def shuffle_list(mylist):\n",
    "    # Take in list, and returned shuffle versioned\n",
    "    shuffle(mylist)\n",
    "    \n",
    "    return mylist"
   ]
  },
  {
   "cell_type": "code",
   "execution_count": 57,
   "id": "491ab0c4",
   "metadata": {},
   "outputs": [
    {
     "data": {
      "text/plain": [
       "[' ', 'O', ' ']"
      ]
     },
     "execution_count": 57,
     "metadata": {},
     "output_type": "execute_result"
    }
   ],
   "source": [
    "mylist"
   ]
  },
  {
   "cell_type": "code",
   "execution_count": 59,
   "id": "cde5869a",
   "metadata": {},
   "outputs": [
    {
     "data": {
      "text/plain": [
       "[' ', ' ', 'O']"
      ]
     },
     "execution_count": 59,
     "metadata": {},
     "output_type": "execute_result"
    }
   ],
   "source": [
    "shuffle_list(mylist)"
   ]
  },
  {
   "cell_type": "code",
   "execution_count": 61,
   "id": "a28c994f",
   "metadata": {},
   "outputs": [],
   "source": [
    "def player_guess():\n",
    "    \n",
    "    guess = ''\n",
    "    \n",
    "    while guess not in ['0','1','2']:\n",
    "        \n",
    "        # Recall input() returns a string\n",
    "        guess = input(\"Pick a number: 0, 1, or 2: \")\n",
    "        \n",
    "    return int(guess)"
   ]
  },
  {
   "cell_type": "code",
   "execution_count": 62,
   "id": "0ae503ab",
   "metadata": {},
   "outputs": [
    {
     "name": "stdout",
     "output_type": "stream",
     "text": [
      "Pick a number: 0, 1, or 2: 1\n"
     ]
    },
    {
     "data": {
      "text/plain": [
       "1"
      ]
     },
     "execution_count": 62,
     "metadata": {},
     "output_type": "execute_result"
    }
   ],
   "source": [
    "player_guess()"
   ]
  },
  {
   "cell_type": "code",
   "execution_count": 63,
   "id": "3daefc69",
   "metadata": {},
   "outputs": [],
   "source": [
    "def check_guess(mylist, guess):\n",
    "    if mylist[guess] == 'O':\n",
    "        print('Correct Guess!')\n",
    "    else:\n",
    "        print('Wrong! Better luck next time')\n",
    "        print(mylist)"
   ]
  },
  {
   "cell_type": "code",
   "execution_count": 64,
   "id": "6e17fd78",
   "metadata": {},
   "outputs": [
    {
     "name": "stdout",
     "output_type": "stream",
     "text": [
      "Pick a number: 0, 1, or 2: 1\n",
      "Correct Guess!\n"
     ]
    }
   ],
   "source": [
    "# Initial List\n",
    "mylist = [' ','O',' ']\n",
    "\n",
    "# Shuffle It\n",
    "mixedup_list = shuffle_list(mylist)\n",
    "\n",
    "# Get User's Guess\n",
    "guess = player_guess()\n",
    "\n",
    "# Check User's Guess\n",
    "#------------------------\n",
    "# Notice how this function takes in the input \n",
    "# based on the output of other functions!\n",
    "check_guess(mixedup_list, guess)"
   ]
  },
  {
   "cell_type": "code",
   "execution_count": null,
   "id": "e92b6ccb",
   "metadata": {},
   "outputs": [],
   "source": []
  }
 ],
 "metadata": {
  "kernelspec": {
   "display_name": "Python 3 (ipykernel)",
   "language": "python",
   "name": "python3"
  },
  "language_info": {
   "codemirror_mode": {
    "name": "ipython",
    "version": 3
   },
   "file_extension": ".py",
   "mimetype": "text/x-python",
   "name": "python",
   "nbconvert_exporter": "python",
   "pygments_lexer": "ipython3",
   "version": "3.10.7"
  }
 },
 "nbformat": 4,
 "nbformat_minor": 5
}
