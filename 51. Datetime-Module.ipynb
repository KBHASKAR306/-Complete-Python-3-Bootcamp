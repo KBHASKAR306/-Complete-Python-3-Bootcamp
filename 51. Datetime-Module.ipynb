{
 "cells": [
  {
   "cell_type": "markdown",
   "id": "d04b7f74",
   "metadata": {},
   "source": [
    "# datetime module"
   ]
  },
  {
   "cell_type": "markdown",
   "id": "c59ac193",
   "metadata": {},
   "source": [
    "### time"
   ]
  },
  {
   "cell_type": "code",
   "execution_count": 2,
   "id": "b6cfd3e4",
   "metadata": {},
   "outputs": [
    {
     "name": "stdout",
     "output_type": "stream",
     "text": [
      "04:20:01\n",
      "hour : 4\n",
      "minute : 20\n",
      "second: 1\n",
      "microsecond: 0\n",
      "tzinfo: None\n"
     ]
    }
   ],
   "source": [
    "import datetime\n",
    "\n",
    "t = datetime.time(4, 20, 1)\n",
    "\n",
    "# Let's show the different components\n",
    "print(t)\n",
    "print('hour :',t.hour)\n",
    "print('minute :', t.minute)\n",
    "print('second:',t.second)\n",
    "print('microsecond:',t.microsecond)\n",
    "print('tzinfo:',t.tzinfo)"
   ]
  },
  {
   "cell_type": "code",
   "execution_count": 3,
   "id": "ab09ec33",
   "metadata": {},
   "outputs": [
    {
     "name": "stdout",
     "output_type": "stream",
     "text": [
      "Earliest : 00:00:00\n",
      "Latest : 23:59:59.999999\n",
      "Resolution : 0:00:00.000001\n"
     ]
    }
   ],
   "source": [
    "print('Earliest :', datetime.time.min)\n",
    "print('Latest :', datetime.time.max)\n",
    "print('Resolution :', datetime.time.resolution)"
   ]
  },
  {
   "cell_type": "markdown",
   "id": "3cd7fd32",
   "metadata": {},
   "source": [
    "### Dates"
   ]
  },
  {
   "cell_type": "code",
   "execution_count": 4,
   "id": "4b0478ab",
   "metadata": {},
   "outputs": [
    {
     "name": "stdout",
     "output_type": "stream",
     "text": [
      "2022-12-07\n",
      "ctime: Wed Dec  7 00:00:00 2022\n",
      "tuple: time.struct_time(tm_year=2022, tm_mon=12, tm_mday=7, tm_hour=0, tm_min=0, tm_sec=0, tm_wday=2, tm_yday=341, tm_isdst=-1)\n",
      "ordinal: 738496\n",
      "Year: 2022\n",
      "Month: 12\n",
      "Day: 7\n"
     ]
    }
   ],
   "source": [
    "today = datetime.date.today()\n",
    "print(today)\n",
    "print('ctime:', today.ctime())\n",
    "print('tuple:', today.timetuple())\n",
    "print('ordinal:', today.toordinal())\n",
    "print('Year:', today.year)\n",
    "print('Month:', today.month)\n",
    "print('Day:', today.day)"
   ]
  },
  {
   "cell_type": "code",
   "execution_count": 5,
   "id": "6e54525a",
   "metadata": {},
   "outputs": [
    {
     "name": "stdout",
     "output_type": "stream",
     "text": [
      "Earliest : 0001-01-01\n",
      "Latest : 9999-12-31\n",
      "Resolution : 1 day, 0:00:00\n"
     ]
    }
   ],
   "source": [
    "print('Earliest :', datetime.date.min)\n",
    "print('Latest :', datetime.date.max)\n",
    "print('Resolution :', datetime.date.resolution)"
   ]
  },
  {
   "cell_type": "code",
   "execution_count": 7,
   "id": "7f059f2a",
   "metadata": {},
   "outputs": [
    {
     "name": "stdout",
     "output_type": "stream",
     "text": [
      "d1: 2015-03-11\n",
      "d2: 1990-03-11\n"
     ]
    }
   ],
   "source": [
    "d1 = datetime.date(2015, 3, 11)\n",
    "print('d1:', d1)\n",
    "\n",
    "d2 = d1.replace(year=1990)\n",
    "print('d2:', d2)"
   ]
  },
  {
   "cell_type": "markdown",
   "id": "a6cd5092",
   "metadata": {},
   "source": [
    "### Arithmetic"
   ]
  },
  {
   "cell_type": "code",
   "execution_count": 8,
   "id": "07b1a8fa",
   "metadata": {},
   "outputs": [
    {
     "data": {
      "text/plain": [
       "datetime.date(2015, 3, 11)"
      ]
     },
     "execution_count": 8,
     "metadata": {},
     "output_type": "execute_result"
    }
   ],
   "source": [
    "d1"
   ]
  },
  {
   "cell_type": "code",
   "execution_count": 9,
   "id": "fdb0ab85",
   "metadata": {},
   "outputs": [
    {
     "data": {
      "text/plain": [
       "datetime.date(1990, 3, 11)"
      ]
     },
     "execution_count": 9,
     "metadata": {},
     "output_type": "execute_result"
    }
   ],
   "source": [
    "d2"
   ]
  },
  {
   "cell_type": "code",
   "execution_count": 10,
   "id": "b0e3264a",
   "metadata": {},
   "outputs": [
    {
     "data": {
      "text/plain": [
       "datetime.timedelta(days=9131)"
      ]
     },
     "execution_count": 10,
     "metadata": {},
     "output_type": "execute_result"
    }
   ],
   "source": [
    "d1 - d2"
   ]
  }
 ],
 "metadata": {
  "kernelspec": {
   "display_name": "Python 3 (ipykernel)",
   "language": "python",
   "name": "python3"
  },
  "language_info": {
   "codemirror_mode": {
    "name": "ipython",
    "version": 3
   },
   "file_extension": ".py",
   "mimetype": "text/x-python",
   "name": "python",
   "nbconvert_exporter": "python",
   "pygments_lexer": "ipython3",
   "version": "3.10.6"
  }
 },
 "nbformat": 4,
 "nbformat_minor": 5
}
