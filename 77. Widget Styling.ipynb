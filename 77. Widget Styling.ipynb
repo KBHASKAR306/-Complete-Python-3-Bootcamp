{
 "cells": [
  {
   "cell_type": "markdown",
   "id": "88d6b6e4",
   "metadata": {},
   "source": [
    "# Widget Styling"
   ]
  },
  {
   "cell_type": "markdown",
   "id": "a34678ee",
   "metadata": {},
   "source": [
    "### style vs. layout"
   ]
  },
  {
   "cell_type": "markdown",
   "id": "2568cef1",
   "metadata": {},
   "source": [
    "### The layout attribute"
   ]
  },
  {
   "cell_type": "markdown",
   "id": "f9643636",
   "metadata": {},
   "source": [
    "### A quick example of layout"
   ]
  },
  {
   "cell_type": "code",
   "execution_count": 2,
   "id": "051feb97",
   "metadata": {},
   "outputs": [
    {
     "data": {
      "application/vnd.jupyter.widget-view+json": {
       "model_id": "3a3f2089b77d4f5da2745899680b2ca4",
       "version_major": 2,
       "version_minor": 0
      },
      "text/plain": [
       "IntSlider(value=0)"
      ]
     },
     "metadata": {},
     "output_type": "display_data"
    }
   ],
   "source": [
    "import ipywidgets as widgets\n",
    "from IPython.display import display\n",
    "\n",
    "w = widgets.IntSlider()\n",
    "display(w)"
   ]
  },
  {
   "cell_type": "code",
   "execution_count": 3,
   "id": "3386f526",
   "metadata": {},
   "outputs": [],
   "source": [
    "w.layout.margin = 'auto'\n",
    "w.layout.height = '75px'"
   ]
  },
  {
   "cell_type": "code",
   "execution_count": 5,
   "id": "0c0073b6",
   "metadata": {},
   "outputs": [
    {
     "data": {
      "application/vnd.jupyter.widget-view+json": {
       "model_id": "dc344cf31c89484e806dc6c37a83c338",
       "version_major": 2,
       "version_minor": 0
      },
      "text/plain": [
       "IntSlider(value=15, description='New slider')"
      ]
     },
     "metadata": {},
     "output_type": "display_data"
    }
   ],
   "source": [
    "x = widgets.IntSlider(value=15,description='New slider')\n",
    "display(x)"
   ]
  },
  {
   "cell_type": "code",
   "execution_count": 6,
   "id": "9ed24b2d",
   "metadata": {},
   "outputs": [],
   "source": [
    "x.layout = w.layout"
   ]
  },
  {
   "cell_type": "markdown",
   "id": "2b737790",
   "metadata": {},
   "source": [
    "### Predefined styles"
   ]
  },
  {
   "cell_type": "code",
   "execution_count": 7,
   "id": "29245ff3",
   "metadata": {},
   "outputs": [
    {
     "data": {
      "application/vnd.jupyter.widget-view+json": {
       "model_id": "9109fd0e05194e10aa4165637c484f44",
       "version_major": 2,
       "version_minor": 0
      },
      "text/plain": [
       "Button(description='Ordinary Button', style=ButtonStyle())"
      ]
     },
     "metadata": {},
     "output_type": "display_data"
    }
   ],
   "source": [
    "import ipywidgets as widgets\n",
    "\n",
    "widgets.Button(description='Ordinary Button', button_style='')"
   ]
  },
  {
   "cell_type": "code",
   "execution_count": 8,
   "id": "225e1301",
   "metadata": {},
   "outputs": [
    {
     "data": {
      "application/vnd.jupyter.widget-view+json": {
       "model_id": "291f2f797ce74bdc9d2e45ec34a33239",
       "version_major": 2,
       "version_minor": 0
      },
      "text/plain": [
       "Button(button_style='danger', description='Danger Button', style=ButtonStyle())"
      ]
     },
     "metadata": {},
     "output_type": "display_data"
    }
   ],
   "source": [
    "widgets.Button(description='Danger Button', button_style='danger')"
   ]
  },
  {
   "cell_type": "markdown",
   "id": "d9d59477",
   "metadata": {},
   "source": [
    "### The style attribute"
   ]
  },
  {
   "cell_type": "code",
   "execution_count": 9,
   "id": "344148db",
   "metadata": {},
   "outputs": [
    {
     "data": {
      "application/vnd.jupyter.widget-view+json": {
       "model_id": "cf3da6a13ce8441faf0b3fd98d02d01e",
       "version_major": 2,
       "version_minor": 0
      },
      "text/plain": [
       "Button(description='Custom color', style=ButtonStyle(button_color='lightgreen'))"
      ]
     },
     "metadata": {},
     "output_type": "display_data"
    }
   ],
   "source": [
    "b1 = widgets.Button(description='Custom color')\n",
    "b1.style.button_color = 'lightgreen'\n",
    "b1"
   ]
  },
  {
   "cell_type": "code",
   "execution_count": 10,
   "id": "5ab2157c",
   "metadata": {},
   "outputs": [
    {
     "data": {
      "text/plain": [
       "['_model_module',\n",
       " '_model_module_version',\n",
       " '_model_name',\n",
       " '_view_count',\n",
       " '_view_module',\n",
       " '_view_module_version',\n",
       " '_view_name',\n",
       " 'button_color',\n",
       " 'font_weight']"
      ]
     },
     "execution_count": 10,
     "metadata": {},
     "output_type": "execute_result"
    }
   ],
   "source": [
    "b1.style.keys"
   ]
  },
  {
   "cell_type": "code",
   "execution_count": 11,
   "id": "296c0725",
   "metadata": {},
   "outputs": [
    {
     "data": {
      "application/vnd.jupyter.widget-view+json": {
       "model_id": "9ed5c5750c0941538ddfaff1241cdbfc",
       "version_major": 2,
       "version_minor": 0
      },
      "text/plain": [
       "Button(style=ButtonStyle(button_color='lightgreen'))"
      ]
     },
     "metadata": {},
     "output_type": "display_data"
    }
   ],
   "source": [
    "b2 = widgets.Button()\n",
    "b2.style = b1.style\n",
    "b2"
   ]
  },
  {
   "cell_type": "code",
   "execution_count": 12,
   "id": "98723d62",
   "metadata": {},
   "outputs": [
    {
     "data": {
      "application/vnd.jupyter.widget-view+json": {
       "model_id": "3a7f5777039d41bdaa1675dd7fe6b6aa",
       "version_major": 2,
       "version_minor": 0
      },
      "text/plain": [
       "IntSlider(value=0, description='Blue handle', style=SliderStyle(handle_color='lightblue'))"
      ]
     },
     "metadata": {},
     "output_type": "display_data"
    }
   ],
   "source": [
    "s1 = widgets.IntSlider(description='Blue handle')\n",
    "s1.style.handle_color = 'lightblue'\n",
    "s1"
   ]
  }
 ],
 "metadata": {
  "kernelspec": {
   "display_name": "Python 3 (ipykernel)",
   "language": "python",
   "name": "python3"
  },
  "language_info": {
   "codemirror_mode": {
    "name": "ipython",
    "version": 3
   },
   "file_extension": ".py",
   "mimetype": "text/x-python",
   "name": "python",
   "nbconvert_exporter": "python",
   "pygments_lexer": "ipython3",
   "version": "3.10.6"
  }
 },
 "nbformat": 4,
 "nbformat_minor": 5
}
