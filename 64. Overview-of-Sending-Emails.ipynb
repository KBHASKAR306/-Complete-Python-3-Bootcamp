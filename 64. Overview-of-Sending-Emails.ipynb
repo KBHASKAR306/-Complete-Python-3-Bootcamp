{
 "cells": [
  {
   "cell_type": "markdown",
   "id": "03bb4093",
   "metadata": {},
   "source": [
    "# Overview of Sending Emails"
   ]
  },
  {
   "cell_type": "code",
   "execution_count": 1,
   "id": "0e6808f3",
   "metadata": {},
   "outputs": [],
   "source": [
    "import smtplib"
   ]
  },
  {
   "cell_type": "code",
   "execution_count": 2,
   "id": "5f25849f",
   "metadata": {},
   "outputs": [],
   "source": [
    "smtp_object = smtplib.SMTP('smtp.gmail.com',587)"
   ]
  },
  {
   "cell_type": "code",
   "execution_count": 3,
   "id": "e0ce859e",
   "metadata": {},
   "outputs": [
    {
     "data": {
      "text/plain": [
       "(250,\n",
       " b'smtp.gmail.com at your service, [14.139.82.7]\\nSIZE 35882577\\n8BITMIME\\nSTARTTLS\\nENHANCEDSTATUSCODES\\nPIPELINING\\nCHUNKING\\nSMTPUTF8')"
      ]
     },
     "execution_count": 3,
     "metadata": {},
     "output_type": "execute_result"
    }
   ],
   "source": [
    "smtp_object.ehlo()"
   ]
  },
  {
   "cell_type": "code",
   "execution_count": 4,
   "id": "ef3e5540",
   "metadata": {},
   "outputs": [
    {
     "data": {
      "text/plain": [
       "(220, b'2.0.0 Ready to start TLS')"
      ]
     },
     "execution_count": 4,
     "metadata": {},
     "output_type": "execute_result"
    }
   ],
   "source": [
    "smtp_object.starttls()"
   ]
  },
  {
   "cell_type": "code",
   "execution_count": 5,
   "id": "61e9eaad",
   "metadata": {},
   "outputs": [],
   "source": [
    "# For hidden passwords\n",
    "import getpass"
   ]
  },
  {
   "cell_type": "code",
   "execution_count": 6,
   "id": "f754dd99",
   "metadata": {},
   "outputs": [
    {
     "name": "stdout",
     "output_type": "stream",
     "text": [
      "Type something here and it will be hidden: ········\n"
     ]
    }
   ],
   "source": [
    "result = getpass.getpass('Type something here and it will be hidden: ')"
   ]
  },
  {
   "cell_type": "code",
   "execution_count": 7,
   "id": "58f0aa92",
   "metadata": {},
   "outputs": [
    {
     "data": {
      "text/plain": [
       "'Rock@143'"
      ]
     },
     "execution_count": 7,
     "metadata": {},
     "output_type": "execute_result"
    }
   ],
   "source": [
    "# Just keep in mind that its still visible as an object internally:\n",
    "result"
   ]
  },
  {
   "cell_type": "code",
   "execution_count": 8,
   "id": "22b7f4cb",
   "metadata": {},
   "outputs": [
    {
     "name": "stdout",
     "output_type": "stream",
     "text": [
      "Enter your passwordRock@143\n"
     ]
    },
    {
     "data": {
      "text/plain": [
       "'Rock@143'"
      ]
     },
     "execution_count": 8,
     "metadata": {},
     "output_type": "execute_result"
    }
   ],
   "source": [
    "# Or just use input()\n",
    "input('Enter your password')"
   ]
  },
  {
   "cell_type": "code",
   "execution_count": 9,
   "id": "29e33234",
   "metadata": {},
   "outputs": [
    {
     "name": "stdout",
     "output_type": "stream",
     "text": [
      "Enter your email: ········\n",
      "Enter your password: ········\n"
     ]
    },
    {
     "ename": "SMTPAuthenticationError",
     "evalue": "(535, b'5.7.8 Username and Password not accepted. Learn more at\\n5.7.8  https://support.google.com/mail/?p=BadCredentials y5-20020a62ce05000000b005771d583893sm1048539pfg.96 - gsmtp')",
     "output_type": "error",
     "traceback": [
      "\u001b[0;31m---------------------------------------------------------------------------\u001b[0m",
      "\u001b[0;31mSMTPAuthenticationError\u001b[0m                   Traceback (most recent call last)",
      "Input \u001b[0;32mIn [9]\u001b[0m, in \u001b[0;36m<cell line: 3>\u001b[0;34m()\u001b[0m\n\u001b[1;32m      1\u001b[0m email \u001b[38;5;241m=\u001b[39m getpass\u001b[38;5;241m.\u001b[39mgetpass(\u001b[38;5;124m'\u001b[39m\u001b[38;5;124mEnter your email: \u001b[39m\u001b[38;5;124m'\u001b[39m)\n\u001b[1;32m      2\u001b[0m password \u001b[38;5;241m=\u001b[39m getpass\u001b[38;5;241m.\u001b[39mgetpass(\u001b[38;5;124m'\u001b[39m\u001b[38;5;124mEnter your password: \u001b[39m\u001b[38;5;124m'\u001b[39m)\n\u001b[0;32m----> 3\u001b[0m \u001b[43msmtp_object\u001b[49m\u001b[38;5;241;43m.\u001b[39;49m\u001b[43mlogin\u001b[49m\u001b[43m(\u001b[49m\u001b[43memail\u001b[49m\u001b[43m,\u001b[49m\u001b[43mpassword\u001b[49m\u001b[43m)\u001b[49m\n",
      "File \u001b[0;32m/usr/lib/python3.10/smtplib.py:750\u001b[0m, in \u001b[0;36mSMTP.login\u001b[0;34m(self, user, password, initial_response_ok)\u001b[0m\n\u001b[1;32m    747\u001b[0m         last_exception \u001b[38;5;241m=\u001b[39m e\n\u001b[1;32m    749\u001b[0m \u001b[38;5;66;03m# We could not login successfully.  Return result of last attempt.\u001b[39;00m\n\u001b[0;32m--> 750\u001b[0m \u001b[38;5;28;01mraise\u001b[39;00m last_exception\n",
      "File \u001b[0;32m/usr/lib/python3.10/smtplib.py:739\u001b[0m, in \u001b[0;36mSMTP.login\u001b[0;34m(self, user, password, initial_response_ok)\u001b[0m\n\u001b[1;32m    737\u001b[0m method_name \u001b[38;5;241m=\u001b[39m \u001b[38;5;124m'\u001b[39m\u001b[38;5;124mauth_\u001b[39m\u001b[38;5;124m'\u001b[39m \u001b[38;5;241m+\u001b[39m authmethod\u001b[38;5;241m.\u001b[39mlower()\u001b[38;5;241m.\u001b[39mreplace(\u001b[38;5;124m'\u001b[39m\u001b[38;5;124m-\u001b[39m\u001b[38;5;124m'\u001b[39m, \u001b[38;5;124m'\u001b[39m\u001b[38;5;124m_\u001b[39m\u001b[38;5;124m'\u001b[39m)\n\u001b[1;32m    738\u001b[0m \u001b[38;5;28;01mtry\u001b[39;00m:\n\u001b[0;32m--> 739\u001b[0m     (code, resp) \u001b[38;5;241m=\u001b[39m \u001b[38;5;28;43mself\u001b[39;49m\u001b[38;5;241;43m.\u001b[39;49m\u001b[43mauth\u001b[49m\u001b[43m(\u001b[49m\n\u001b[1;32m    740\u001b[0m \u001b[43m        \u001b[49m\u001b[43mauthmethod\u001b[49m\u001b[43m,\u001b[49m\u001b[43m \u001b[49m\u001b[38;5;28;43mgetattr\u001b[39;49m\u001b[43m(\u001b[49m\u001b[38;5;28;43mself\u001b[39;49m\u001b[43m,\u001b[49m\u001b[43m \u001b[49m\u001b[43mmethod_name\u001b[49m\u001b[43m)\u001b[49m\u001b[43m,\u001b[49m\n\u001b[1;32m    741\u001b[0m \u001b[43m        \u001b[49m\u001b[43minitial_response_ok\u001b[49m\u001b[38;5;241;43m=\u001b[39;49m\u001b[43minitial_response_ok\u001b[49m\u001b[43m)\u001b[49m\n\u001b[1;32m    742\u001b[0m     \u001b[38;5;66;03m# 235 == 'Authentication successful'\u001b[39;00m\n\u001b[1;32m    743\u001b[0m     \u001b[38;5;66;03m# 503 == 'Error: already authenticated'\u001b[39;00m\n\u001b[1;32m    744\u001b[0m     \u001b[38;5;28;01mif\u001b[39;00m code \u001b[38;5;129;01min\u001b[39;00m (\u001b[38;5;241m235\u001b[39m, \u001b[38;5;241m503\u001b[39m):\n",
      "File \u001b[0;32m/usr/lib/python3.10/smtplib.py:662\u001b[0m, in \u001b[0;36mSMTP.auth\u001b[0;34m(self, mechanism, authobject, initial_response_ok)\u001b[0m\n\u001b[1;32m    660\u001b[0m \u001b[38;5;28;01mif\u001b[39;00m code \u001b[38;5;129;01min\u001b[39;00m (\u001b[38;5;241m235\u001b[39m, \u001b[38;5;241m503\u001b[39m):\n\u001b[1;32m    661\u001b[0m     \u001b[38;5;28;01mreturn\u001b[39;00m (code, resp)\n\u001b[0;32m--> 662\u001b[0m \u001b[38;5;28;01mraise\u001b[39;00m SMTPAuthenticationError(code, resp)\n",
      "\u001b[0;31mSMTPAuthenticationError\u001b[0m: (535, b'5.7.8 Username and Password not accepted. Learn more at\\n5.7.8  https://support.google.com/mail/?p=BadCredentials y5-20020a62ce05000000b005771d583893sm1048539pfg.96 - gsmtp')"
     ]
    }
   ],
   "source": [
    "email = getpass.getpass('Enter your email: ')\n",
    "password = getpass.getpass('Enter your password: ')\n",
    "smtp_object.login(email,password)"
   ]
  },
  {
   "cell_type": "code",
   "execution_count": 10,
   "id": "6a3c8eb3",
   "metadata": {},
   "outputs": [
    {
     "name": "stdout",
     "output_type": "stream",
     "text": [
      "Enter your email: ········\n",
      "Enter the email of the recipient: ········\n",
      "Enter the subject line: Hello World!\n",
      "Type out the message you want to send: Test Mail\n"
     ]
    },
    {
     "ename": "SMTPSenderRefused",
     "evalue": "(530, b'5.7.0 Authentication Required. Learn more at\\n5.7.0  https://support.google.com/mail/?p=WantAuthError y5-20020a62ce05000000b005771d583893sm1048539pfg.96 - gsmtp', 'ihub.data.iiit@gmail.com')",
     "output_type": "error",
     "traceback": [
      "\u001b[0;31m---------------------------------------------------------------------------\u001b[0m",
      "\u001b[0;31mSMTPSenderRefused\u001b[0m                         Traceback (most recent call last)",
      "Input \u001b[0;32mIn [10]\u001b[0m, in \u001b[0;36m<cell line: 6>\u001b[0;34m()\u001b[0m\n\u001b[1;32m      4\u001b[0m message \u001b[38;5;241m=\u001b[39m \u001b[38;5;28minput\u001b[39m(\u001b[38;5;124m'\u001b[39m\u001b[38;5;124mType out the message you want to send: \u001b[39m\u001b[38;5;124m'\u001b[39m)\n\u001b[1;32m      5\u001b[0m msg \u001b[38;5;241m=\u001b[39m \u001b[38;5;124m'\u001b[39m\u001b[38;5;124mSubject: \u001b[39m\u001b[38;5;124m'\u001b[39m \u001b[38;5;241m+\u001b[39m subject \u001b[38;5;241m+\u001b[39m \u001b[38;5;124m'\u001b[39m\u001b[38;5;130;01m\\n\u001b[39;00m\u001b[38;5;124m'\u001b[39m \u001b[38;5;241m+\u001b[39m message\n\u001b[0;32m----> 6\u001b[0m \u001b[43msmtp_object\u001b[49m\u001b[38;5;241;43m.\u001b[39;49m\u001b[43msendmail\u001b[49m\u001b[43m(\u001b[49m\u001b[43mfrom_address\u001b[49m\u001b[43m,\u001b[49m\u001b[43mto_address\u001b[49m\u001b[43m,\u001b[49m\u001b[43mmsg\u001b[49m\u001b[43m)\u001b[49m\n",
      "File \u001b[0;32m/usr/lib/python3.10/smtplib.py:887\u001b[0m, in \u001b[0;36mSMTP.sendmail\u001b[0;34m(self, from_addr, to_addrs, msg, mail_options, rcpt_options)\u001b[0m\n\u001b[1;32m    885\u001b[0m     \u001b[38;5;28;01melse\u001b[39;00m:\n\u001b[1;32m    886\u001b[0m         \u001b[38;5;28mself\u001b[39m\u001b[38;5;241m.\u001b[39m_rset()\n\u001b[0;32m--> 887\u001b[0m     \u001b[38;5;28;01mraise\u001b[39;00m SMTPSenderRefused(code, resp, from_addr)\n\u001b[1;32m    888\u001b[0m senderrs \u001b[38;5;241m=\u001b[39m {}\n\u001b[1;32m    889\u001b[0m \u001b[38;5;28;01mif\u001b[39;00m \u001b[38;5;28misinstance\u001b[39m(to_addrs, \u001b[38;5;28mstr\u001b[39m):\n",
      "\u001b[0;31mSMTPSenderRefused\u001b[0m: (530, b'5.7.0 Authentication Required. Learn more at\\n5.7.0  https://support.google.com/mail/?p=WantAuthError y5-20020a62ce05000000b005771d583893sm1048539pfg.96 - gsmtp', 'ihub.data.iiit@gmail.com')"
     ]
    }
   ],
   "source": [
    "from_address = getpass.getpass('Enter your email: ')\n",
    "to_address = getpass.getpass('Enter the email of the recipient: ')\n",
    "subject = input('Enter the subject line: ')\n",
    "message = input('Type out the message you want to send: ')\n",
    "msg = 'Subject: ' + subject + '\\n' + message\n",
    "smtp_object.sendmail(from_address,to_address,msg)"
   ]
  },
  {
   "cell_type": "code",
   "execution_count": 11,
   "id": "76001fc1",
   "metadata": {},
   "outputs": [
    {
     "data": {
      "text/plain": [
       "(221,\n",
       " b'2.0.0 closing connection y5-20020a62ce05000000b005771d583893sm1048539pfg.96 - gsmtp')"
      ]
     },
     "execution_count": 11,
     "metadata": {},
     "output_type": "execute_result"
    }
   ],
   "source": [
    "smtp_object.quit()"
   ]
  }
 ],
 "metadata": {
  "kernelspec": {
   "display_name": "Python 3 (ipykernel)",
   "language": "python",
   "name": "python3"
  },
  "language_info": {
   "codemirror_mode": {
    "name": "ipython",
    "version": 3
   },
   "file_extension": ".py",
   "mimetype": "text/x-python",
   "name": "python",
   "nbconvert_exporter": "python",
   "pygments_lexer": "ipython3",
   "version": "3.10.6"
  }
 },
 "nbformat": 4,
 "nbformat_minor": 5
}
