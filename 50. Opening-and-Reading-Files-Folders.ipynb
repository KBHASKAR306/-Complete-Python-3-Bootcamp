{
 "cells": [
  {
   "cell_type": "markdown",
   "id": "57c789c1",
   "metadata": {},
   "source": [
    "# Opening and Reading Files"
   ]
  },
  {
   "cell_type": "markdown",
   "id": "09c954fb",
   "metadata": {},
   "source": [
    "### Review: Understanding File Paths"
   ]
  },
  {
   "cell_type": "code",
   "execution_count": 1,
   "id": "090808fe",
   "metadata": {},
   "outputs": [
    {
     "data": {
      "text/plain": [
       "'/home/ihub-kbhaskar/Machine Learning & Deep Learning/Complete-Python-3-Bootcamp-master/Complete-Python-3-Bootcamp-master/12-Advanced Python Modules'"
      ]
     },
     "execution_count": 1,
     "metadata": {},
     "output_type": "execute_result"
    }
   ],
   "source": [
    "pwd"
   ]
  },
  {
   "cell_type": "markdown",
   "id": "cd0ca9ad",
   "metadata": {},
   "source": [
    "### Create Practice File"
   ]
  },
  {
   "cell_type": "code",
   "execution_count": 2,
   "id": "6f4b7911",
   "metadata": {},
   "outputs": [],
   "source": [
    "f = open('practice.txt','w+')"
   ]
  },
  {
   "cell_type": "code",
   "execution_count": 3,
   "id": "858d5c82",
   "metadata": {},
   "outputs": [],
   "source": [
    "f.write('test')\n",
    "f.close()"
   ]
  },
  {
   "cell_type": "markdown",
   "id": "13d6fbe5",
   "metadata": {},
   "source": [
    "### Getting Directories"
   ]
  },
  {
   "cell_type": "code",
   "execution_count": 2,
   "id": "00ac3a0e",
   "metadata": {},
   "outputs": [],
   "source": [
    "import os"
   ]
  },
  {
   "cell_type": "code",
   "execution_count": 5,
   "id": "61df342d",
   "metadata": {},
   "outputs": [
    {
     "data": {
      "text/plain": [
       "'/home/ihub-kbhaskar/Machine Learning & Deep Learning/Complete-Python-3-Bootcamp-master/Complete-Python-3-Bootcamp-master/12-Advanced Python Modules'"
      ]
     },
     "execution_count": 5,
     "metadata": {},
     "output_type": "execute_result"
    }
   ],
   "source": [
    "os.getcwd()"
   ]
  },
  {
   "cell_type": "markdown",
   "id": "e736cb32",
   "metadata": {},
   "source": [
    "### Listing Files in a Directory"
   ]
  },
  {
   "cell_type": "code",
   "execution_count": 6,
   "id": "0403a862",
   "metadata": {},
   "outputs": [
    {
     "data": {
      "text/plain": [
       "['00-Collections-Module.ipynb',\n",
       " 'Example_Top_Level',\n",
       " '05-Overview-of-Regular-Expressions.ipynb',\n",
       " '02-Datetime-Module.ipynb',\n",
       " '03-Math-and-Random-Module.ipynb',\n",
       " '.ipynb_checkpoints',\n",
       " '49. Collections-Module.ipynb',\n",
       " '07-Unzipping-and-Zipping-Files.ipynb',\n",
       " '04-Python Debugger (pdb).ipynb',\n",
       " '06-Timing your code - timeit.ipynb',\n",
       " '08-Advanced-Python-Module-Exercise',\n",
       " 'practice.txt',\n",
       " 'Untitled.ipynb',\n",
       " '01-Opening-and-Reading-Files-Folders.ipynb']"
      ]
     },
     "execution_count": 6,
     "metadata": {},
     "output_type": "execute_result"
    }
   ],
   "source": [
    "# In your current directory\n",
    "os.listdir()"
   ]
  },
  {
   "cell_type": "code",
   "execution_count": 15,
   "id": "80faae31",
   "metadata": {},
   "outputs": [
    {
     "ename": "FileNotFoundError",
     "evalue": "[Errno 2] No such file or directory: '/users'",
     "output_type": "error",
     "traceback": [
      "\u001b[0;31m---------------------------------------------------------------------------\u001b[0m",
      "\u001b[0;31mFileNotFoundError\u001b[0m                         Traceback (most recent call last)",
      "Input \u001b[0;32mIn [15]\u001b[0m, in \u001b[0;36m<cell line: 2>\u001b[0;34m()\u001b[0m\n\u001b[1;32m      1\u001b[0m \u001b[38;5;66;03m# In any directory you pass\u001b[39;00m\n\u001b[0;32m----> 2\u001b[0m \u001b[43mos\u001b[49m\u001b[38;5;241;43m.\u001b[39;49m\u001b[43mlistdir\u001b[49m\u001b[43m(\u001b[49m\u001b[38;5;124;43m\"\u001b[39;49m\u001b[38;5;124;43m/users\u001b[39;49m\u001b[38;5;124;43m\"\u001b[39;49m\u001b[43m)\u001b[49m\n",
      "\u001b[0;31mFileNotFoundError\u001b[0m: [Errno 2] No such file or directory: '/users'"
     ]
    }
   ],
   "source": [
    "# In any directory you pass\n",
    "os.listdir(\"C:\\\\Users\")"
   ]
  },
  {
   "cell_type": "markdown",
   "id": "0d678c06",
   "metadata": {},
   "source": [
    "### Moving Files"
   ]
  },
  {
   "cell_type": "code",
   "execution_count": 9,
   "id": "a833436d",
   "metadata": {},
   "outputs": [],
   "source": [
    "import shutil"
   ]
  },
  {
   "cell_type": "code",
   "execution_count": 16,
   "id": "4cdc23b9",
   "metadata": {},
   "outputs": [
    {
     "data": {
      "text/plain": [
       "'C:\\\\Users\\\\Marcial'"
      ]
     },
     "execution_count": 16,
     "metadata": {},
     "output_type": "execute_result"
    }
   ],
   "source": [
    "shutil.move('practice.txt','C:\\\\Users\\\\Marcial')"
   ]
  },
  {
   "cell_type": "code",
   "execution_count": 17,
   "id": "77acf727",
   "metadata": {},
   "outputs": [
    {
     "data": {
      "text/plain": [
       "['00-Collections-Module.ipynb',\n",
       " 'C:\\\\Users\\\\Marcial',\n",
       " 'Example_Top_Level',\n",
       " '05-Overview-of-Regular-Expressions.ipynb',\n",
       " '02-Datetime-Module.ipynb',\n",
       " '03-Math-and-Random-Module.ipynb',\n",
       " '.ipynb_checkpoints',\n",
       " '49. Collections-Module.ipynb',\n",
       " '07-Unzipping-and-Zipping-Files.ipynb',\n",
       " '04-Python Debugger (pdb).ipynb',\n",
       " '06-Timing your code - timeit.ipynb',\n",
       " '08-Advanced-Python-Module-Exercise',\n",
       " 'Untitled.ipynb',\n",
       " '01-Opening-and-Reading-Files-Folders.ipynb']"
      ]
     },
     "execution_count": 17,
     "metadata": {},
     "output_type": "execute_result"
    }
   ],
   "source": [
    "os.listdir()"
   ]
  },
  {
   "cell_type": "code",
   "execution_count": 25,
   "id": "3e05fa2f",
   "metadata": {},
   "outputs": [
    {
     "ename": "Error",
     "evalue": "Destination path '/home/ihub-kbhaskar/Machine Learning & Deep Learning/Complete-Python-3-Bootcamp-master/Complete-Python-3-Bootcamp-master/12-Advanced Python Modules/C:\\Users\\Marcial' already exists",
     "output_type": "error",
     "traceback": [
      "\u001b[0;31m---------------------------------------------------------------------------\u001b[0m",
      "\u001b[0;31mError\u001b[0m                                     Traceback (most recent call last)",
      "Input \u001b[0;32mIn [25]\u001b[0m, in \u001b[0;36m<cell line: 1>\u001b[0;34m()\u001b[0m\n\u001b[0;32m----> 1\u001b[0m \u001b[43mshutil\u001b[49m\u001b[38;5;241;43m.\u001b[39;49m\u001b[43mmove\u001b[49m\u001b[43m(\u001b[49m\u001b[38;5;124;43m'\u001b[39;49m\u001b[38;5;124;43mC:\u001b[39;49m\u001b[38;5;130;43;01m\\\\\u001b[39;49;00m\u001b[38;5;124;43mUsers\u001b[39;49m\u001b[38;5;130;43;01m\\\\\u001b[39;49;00m\u001b[38;5;124;43mMarcial\u001b[39;49m\u001b[38;5;124;43m'\u001b[39;49m\u001b[43m,\u001b[49m\u001b[43mos\u001b[49m\u001b[38;5;241;43m.\u001b[39;49m\u001b[43mgetcwd\u001b[49m\u001b[43m(\u001b[49m\u001b[43m)\u001b[49m\u001b[43m)\u001b[49m\n",
      "File \u001b[0;32m/usr/lib/python3.10/shutil.py:813\u001b[0m, in \u001b[0;36mmove\u001b[0;34m(src, dst, copy_function)\u001b[0m\n\u001b[1;32m    810\u001b[0m     real_dst \u001b[38;5;241m=\u001b[39m os\u001b[38;5;241m.\u001b[39mpath\u001b[38;5;241m.\u001b[39mjoin(dst, _basename(src))\n\u001b[1;32m    812\u001b[0m     \u001b[38;5;28;01mif\u001b[39;00m os\u001b[38;5;241m.\u001b[39mpath\u001b[38;5;241m.\u001b[39mexists(real_dst):\n\u001b[0;32m--> 813\u001b[0m         \u001b[38;5;28;01mraise\u001b[39;00m Error(\u001b[38;5;124m\"\u001b[39m\u001b[38;5;124mDestination path \u001b[39m\u001b[38;5;124m'\u001b[39m\u001b[38;5;132;01m%s\u001b[39;00m\u001b[38;5;124m'\u001b[39m\u001b[38;5;124m already exists\u001b[39m\u001b[38;5;124m\"\u001b[39m \u001b[38;5;241m%\u001b[39m real_dst)\n\u001b[1;32m    814\u001b[0m \u001b[38;5;28;01mtry\u001b[39;00m:\n\u001b[1;32m    815\u001b[0m     os\u001b[38;5;241m.\u001b[39mrename(src, real_dst)\n",
      "\u001b[0;31mError\u001b[0m: Destination path '/home/ihub-kbhaskar/Machine Learning & Deep Learning/Complete-Python-3-Bootcamp-master/Complete-Python-3-Bootcamp-master/12-Advanced Python Modules/C:\\Users\\Marcial' already exists"
     ]
    }
   ],
   "source": [
    "shutil.move('C:\\\\Users\\\\Marcial',os.getcwd())"
   ]
  },
  {
   "cell_type": "code",
   "execution_count": 26,
   "id": "f4a37de8",
   "metadata": {},
   "outputs": [
    {
     "data": {
      "text/plain": [
       "['00-Collections-Module.ipynb',\n",
       " 'C:\\\\Users\\\\Marcial',\n",
       " 'Example_Top_Level',\n",
       " '05-Overview-of-Regular-Expressions.ipynb',\n",
       " '02-Datetime-Module.ipynb',\n",
       " '03-Math-and-Random-Module.ipynb',\n",
       " '.ipynb_checkpoints',\n",
       " '49. Collections-Module.ipynb',\n",
       " '07-Unzipping-and-Zipping-Files.ipynb',\n",
       " '04-Python Debugger (pdb).ipynb',\n",
       " '06-Timing your code - timeit.ipynb',\n",
       " '08-Advanced-Python-Module-Exercise',\n",
       " 'Untitled.ipynb',\n",
       " '01-Opening-and-Reading-Files-Folders.ipynb']"
      ]
     },
     "execution_count": 26,
     "metadata": {},
     "output_type": "execute_result"
    }
   ],
   "source": [
    "os.listdir()"
   ]
  },
  {
   "cell_type": "markdown",
   "id": "60617731",
   "metadata": {},
   "source": [
    "### Deleting Files"
   ]
  },
  {
   "cell_type": "code",
   "execution_count": 27,
   "id": "3cc97f72",
   "metadata": {},
   "outputs": [
    {
     "name": "stdout",
     "output_type": "stream",
     "text": [
      "Defaulting to user installation because normal site-packages is not writeable\n",
      "Requirement already satisfied: send2trash in /home/ihub-kbhaskar/.local/lib/python3.10/site-packages (1.8.0)\n"
     ]
    }
   ],
   "source": [
    "! pip install send2trash"
   ]
  },
  {
   "cell_type": "code",
   "execution_count": 28,
   "id": "288a06fb",
   "metadata": {},
   "outputs": [],
   "source": [
    "import send2trash"
   ]
  },
  {
   "cell_type": "code",
   "execution_count": 29,
   "id": "822f499a",
   "metadata": {},
   "outputs": [
    {
     "data": {
      "text/plain": [
       "['00-Collections-Module.ipynb',\n",
       " 'C:\\\\Users\\\\Marcial',\n",
       " 'Example_Top_Level',\n",
       " '05-Overview-of-Regular-Expressions.ipynb',\n",
       " '02-Datetime-Module.ipynb',\n",
       " '03-Math-and-Random-Module.ipynb',\n",
       " '.ipynb_checkpoints',\n",
       " '49. Collections-Module.ipynb',\n",
       " '07-Unzipping-and-Zipping-Files.ipynb',\n",
       " '04-Python Debugger (pdb).ipynb',\n",
       " '06-Timing your code - timeit.ipynb',\n",
       " '08-Advanced-Python-Module-Exercise',\n",
       " 'Untitled.ipynb',\n",
       " '01-Opening-and-Reading-Files-Folders.ipynb']"
      ]
     },
     "execution_count": 29,
     "metadata": {},
     "output_type": "execute_result"
    }
   ],
   "source": [
    "os.listdir()"
   ]
  },
  {
   "cell_type": "code",
   "execution_count": 31,
   "id": "da1dd62a",
   "metadata": {},
   "outputs": [],
   "source": [
    "send2trash.send2trash('C:\\\\Users\\\\Marcial')"
   ]
  },
  {
   "cell_type": "code",
   "execution_count": 32,
   "id": "4ce8d606",
   "metadata": {},
   "outputs": [
    {
     "data": {
      "text/plain": [
       "['00-Collections-Module.ipynb',\n",
       " 'Example_Top_Level',\n",
       " '05-Overview-of-Regular-Expressions.ipynb',\n",
       " '02-Datetime-Module.ipynb',\n",
       " '03-Math-and-Random-Module.ipynb',\n",
       " '.ipynb_checkpoints',\n",
       " '49. Collections-Module.ipynb',\n",
       " '07-Unzipping-and-Zipping-Files.ipynb',\n",
       " '04-Python Debugger (pdb).ipynb',\n",
       " '06-Timing your code - timeit.ipynb',\n",
       " '08-Advanced-Python-Module-Exercise',\n",
       " 'Untitled.ipynb',\n",
       " '01-Opening-and-Reading-Files-Folders.ipynb']"
      ]
     },
     "execution_count": 32,
     "metadata": {},
     "output_type": "execute_result"
    }
   ],
   "source": [
    "os.listdir()"
   ]
  },
  {
   "cell_type": "markdown",
   "id": "68329f72",
   "metadata": {},
   "source": [
    "### Walking through a directory"
   ]
  },
  {
   "cell_type": "code",
   "execution_count": 33,
   "id": "e755a182",
   "metadata": {},
   "outputs": [
    {
     "data": {
      "text/plain": [
       "'/home/ihub-kbhaskar/Machine Learning & Deep Learning/Complete-Python-3-Bootcamp-master/Complete-Python-3-Bootcamp-master/12-Advanced Python Modules'"
      ]
     },
     "execution_count": 33,
     "metadata": {},
     "output_type": "execute_result"
    }
   ],
   "source": [
    "os.getcwd()"
   ]
  },
  {
   "cell_type": "code",
   "execution_count": 34,
   "id": "a949a2f6",
   "metadata": {},
   "outputs": [
    {
     "data": {
      "text/plain": [
       "['00-Collections-Module.ipynb',\n",
       " 'Example_Top_Level',\n",
       " '05-Overview-of-Regular-Expressions.ipynb',\n",
       " '02-Datetime-Module.ipynb',\n",
       " '03-Math-and-Random-Module.ipynb',\n",
       " '.ipynb_checkpoints',\n",
       " '49. Collections-Module.ipynb',\n",
       " '07-Unzipping-and-Zipping-Files.ipynb',\n",
       " '04-Python Debugger (pdb).ipynb',\n",
       " '06-Timing your code - timeit.ipynb',\n",
       " '08-Advanced-Python-Module-Exercise',\n",
       " 'Untitled.ipynb',\n",
       " '01-Opening-and-Reading-Files-Folders.ipynb']"
      ]
     },
     "execution_count": 34,
     "metadata": {},
     "output_type": "execute_result"
    }
   ],
   "source": [
    "os.listdir()"
   ]
  },
  {
   "cell_type": "code",
   "execution_count": 4,
   "id": "eb89fe7f",
   "metadata": {},
   "outputs": [
    {
     "name": "stdout",
     "output_type": "stream",
     "text": [
      "Currently looking at folder: Example_Top_Level\n",
      "\n",
      "\n",
      "THE SUBFOLDERS ARE: \n",
      "\t Subfolder: Mid-Example-One\n",
      "\n",
      "\n",
      "THE FILES ARE: \n",
      "\t File: Mid-Example.txt\n",
      "\n",
      "\n",
      "Currently looking at folder: Example_Top_Level/Mid-Example-One\n",
      "\n",
      "\n",
      "THE SUBFOLDERS ARE: \n",
      "\t Subfolder: Bottom-Level-One\n",
      "\t Subfolder: Bottom-Level-Two\n",
      "\n",
      "\n",
      "THE FILES ARE: \n",
      "\t File: Mid-Level-Doc.txt\n",
      "\n",
      "\n",
      "Currently looking at folder: Example_Top_Level/Mid-Example-One/Bottom-Level-One\n",
      "\n",
      "\n",
      "THE SUBFOLDERS ARE: \n",
      "\n",
      "\n",
      "THE FILES ARE: \n",
      "\t File: One_Text.txt\n",
      "\n",
      "\n",
      "Currently looking at folder: Example_Top_Level/Mid-Example-One/Bottom-Level-Two\n",
      "\n",
      "\n",
      "THE SUBFOLDERS ARE: \n",
      "\n",
      "\n",
      "THE FILES ARE: \n",
      "\t File: Bottom-Text-Two.txt\n",
      "\n",
      "\n"
     ]
    }
   ],
   "source": [
    "for folder , sub_folders , files in os.walk('Example_Top_Level'):\n",
    "    \n",
    "    print(\"Currently looking at folder: \"+ folder)\n",
    "    print('\\n')\n",
    "    print('THE SUBFOLDERS ARE: ')\n",
    "    for sub_fold in sub_folders:\n",
    "        print(\"\\t Subfolder: \"+sub_fold )\n",
    "        \n",
    "    print('\\n')\n",
    "    \n",
    "    print(\"THE FILES ARE: \")\n",
    "    for f in files:\n",
    "        print(\"\\t File: \"+f)\n",
    "    print('\\n')\n",
    "    \n",
    "    # Now look at subfolders"
   ]
  }
 ],
 "metadata": {
  "kernelspec": {
   "display_name": "Python 3 (ipykernel)",
   "language": "python",
   "name": "python3"
  },
  "language_info": {
   "codemirror_mode": {
    "name": "ipython",
    "version": 3
   },
   "file_extension": ".py",
   "mimetype": "text/x-python",
   "name": "python",
   "nbconvert_exporter": "python",
   "pygments_lexer": "ipython3",
   "version": "3.10.6"
  }
 },
 "nbformat": 4,
 "nbformat_minor": 5
}
