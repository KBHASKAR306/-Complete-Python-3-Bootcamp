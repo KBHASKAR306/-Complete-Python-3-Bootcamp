{
 "cells": [
  {
   "cell_type": "markdown",
   "id": "b369e894",
   "metadata": {},
   "source": [
    "# Introduction to Python Statements"
   ]
  },
  {
   "cell_type": "markdown",
   "id": "a49f80de",
   "metadata": {},
   "source": [
    "### Python vs Other Languages"
   ]
  },
  {
   "cell_type": "code",
   "execution_count": null,
   "id": "109da31c",
   "metadata": {},
   "outputs": [],
   "source": [
    "# Version 1 (Other Languages)\n",
    "\n",
    "if (a>b){\n",
    "    a = 2;\n",
    "    b = 4;\n",
    "}"
   ]
  },
  {
   "cell_type": "code",
   "execution_count": null,
   "id": "b18f5cf3",
   "metadata": {},
   "outputs": [],
   "source": [
    "#Version 2 (Python)\n",
    "\n",
    "if a>b:\n",
    "    a = 2\n",
    "    b = 4"
   ]
  },
  {
   "cell_type": "markdown",
   "id": "658a3d81",
   "metadata": {},
   "source": [
    "### Indentation"
   ]
  },
  {
   "cell_type": "code",
   "execution_count": null,
   "id": "ca5f7635",
   "metadata": {},
   "outputs": [],
   "source": [
    "# Other Languages\n",
    "\n",
    "if (x)\n",
    "    if(y)\n",
    "        code-statement;\n",
    "else\n",
    "    another-code-statement;"
   ]
  },
  {
   "cell_type": "code",
   "execution_count": null,
   "id": "e66127aa",
   "metadata": {},
   "outputs": [],
   "source": [
    "# Python\n",
    "\n",
    "if x:\n",
    "    if y:\n",
    "        code-statement\n",
    "else:\n",
    "    another-code-statement"
   ]
  }
 ],
 "metadata": {
  "kernelspec": {
   "display_name": "Python 3 (ipykernel)",
   "language": "python",
   "name": "python3"
  },
  "language_info": {
   "codemirror_mode": {
    "name": "ipython",
    "version": 3
   },
   "file_extension": ".py",
   "mimetype": "text/x-python",
   "name": "python",
   "nbconvert_exporter": "python",
   "pygments_lexer": "ipython3",
   "version": "3.10.7"
  }
 },
 "nbformat": 4,
 "nbformat_minor": 5
}
