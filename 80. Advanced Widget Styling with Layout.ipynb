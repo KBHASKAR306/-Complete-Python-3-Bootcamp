{
 "cells": [
  {
   "cell_type": "markdown",
   "id": "cdc9fa38",
   "metadata": {},
   "source": [
    "# Advanced Widget Styling with Layout"
   ]
  },
  {
   "cell_type": "markdown",
   "id": "31396ea6",
   "metadata": {},
   "source": [
    "### The layout attribute"
   ]
  },
  {
   "cell_type": "markdown",
   "id": "be9cad3e",
   "metadata": {},
   "source": [
    "#### Exposed CSS properties"
   ]
  },
  {
   "cell_type": "raw",
   "id": "7a0f5352",
   "metadata": {},
   "source": [
    "Sizes\n",
    "\n",
    "height\n",
    "width\n",
    "max_height\n",
    "max_width\n",
    "min_height\n",
    "min_width\n",
    "\n",
    "Display\n",
    "\n",
    "visibility\n",
    "display\n",
    "overflow\n",
    "overflow_x\n",
    "overflow_y\n",
    "\n",
    "Box model\n",
    "\n",
    "border\n",
    "margin\n",
    "padding\n",
    "\n",
    "Positioning\n",
    "\n",
    "top\n",
    "left\n",
    "bottom\n",
    "right\n",
    "\n",
    "Flexbox\n",
    "\n",
    "order\n",
    "flex_flow\n",
    "align_items\n",
    "flex\n",
    "align_self\n",
    "align_content\n",
    "justify_content"
   ]
  },
  {
   "cell_type": "markdown",
   "id": "4b9b491e",
   "metadata": {},
   "source": [
    "### Shorthand CSS properties"
   ]
  },
  {
   "cell_type": "raw",
   "id": "593ba233",
   "metadata": {},
   "source": [
    "You may have noticed that certain CSS properties such as margin-[top/right/bottom/left] seem to be missing. The same holds for padding-[top/right/bottom/left] etc.\n",
    "\n",
    "In fact, you can atomically specify [top/right/bottom/left] margins via the margin attribute alone by passing the string '100px 150px 100px 80px' for a respectively top, right, bottom and left margins of 100, 150, 100 and 80 pixels.\n",
    "\n",
    "Similarly, the flex attribute can hold values for flex-grow, flex-shrink and flex-basis. The border attribute is a shorthand property for border-width, border-style (required), and border-color."
   ]
  },
  {
   "cell_type": "code",
   "execution_count": 1,
   "id": "8256cfbb",
   "metadata": {},
   "outputs": [],
   "source": [
    "import ipywidgets as widgets\n",
    "from IPython.display import display"
   ]
  }
 ],
 "metadata": {
  "kernelspec": {
   "display_name": "Python 3 (ipykernel)",
   "language": "python",
   "name": "python3"
  },
  "language_info": {
   "codemirror_mode": {
    "name": "ipython",
    "version": 3
   },
   "file_extension": ".py",
   "mimetype": "text/x-python",
   "name": "python",
   "nbconvert_exporter": "python",
   "pygments_lexer": "ipython3",
   "version": "3.10.6"
  }
 },
 "nbformat": 4,
 "nbformat_minor": 5
}
