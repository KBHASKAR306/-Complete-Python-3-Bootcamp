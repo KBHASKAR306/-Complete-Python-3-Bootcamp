{
 "cells": [
  {
   "cell_type": "markdown",
   "id": "ac95e562",
   "metadata": {},
   "source": [
    "# Collections Module"
   ]
  },
  {
   "cell_type": "markdown",
   "id": "9859a409",
   "metadata": {},
   "source": [
    "### Counter"
   ]
  },
  {
   "cell_type": "code",
   "execution_count": 1,
   "id": "44f34582",
   "metadata": {},
   "outputs": [],
   "source": [
    "from collections import Counter"
   ]
  },
  {
   "cell_type": "markdown",
   "id": "adc74f4e",
   "metadata": {},
   "source": [
    "##### Counter() with lists"
   ]
  },
  {
   "cell_type": "code",
   "execution_count": 2,
   "id": "bbbd0181",
   "metadata": {},
   "outputs": [
    {
     "data": {
      "text/plain": [
       "Counter({1: 5, 2: 6, 3: 4, 12: 1, 32: 1, 223: 1})"
      ]
     },
     "execution_count": 2,
     "metadata": {},
     "output_type": "execute_result"
    }
   ],
   "source": [
    "lst = [1,2,2,2,2,3,3,3,1,2,1,12,3,2,32,1,223,1]\n",
    "\n",
    "Counter(lst)"
   ]
  },
  {
   "cell_type": "markdown",
   "id": "2752e754",
   "metadata": {},
   "source": [
    "##### Counter with strings"
   ]
  },
  {
   "cell_type": "code",
   "execution_count": 3,
   "id": "c3f077d6",
   "metadata": {},
   "outputs": [
    {
     "data": {
      "text/plain": [
       "Counter({'a': 2, 'b': 7, 's': 6, 'h': 3})"
      ]
     },
     "execution_count": 3,
     "metadata": {},
     "output_type": "execute_result"
    }
   ],
   "source": [
    "Counter('aabsbsbsbhshhbbsbs')"
   ]
  },
  {
   "cell_type": "markdown",
   "id": "8e85b1db",
   "metadata": {},
   "source": [
    "##### Counter with words in a sentence"
   ]
  },
  {
   "cell_type": "code",
   "execution_count": 4,
   "id": "bbc37aad",
   "metadata": {},
   "outputs": [
    {
     "data": {
      "text/plain": [
       "Counter({'How': 1,\n",
       "         'many': 1,\n",
       "         'times': 2,\n",
       "         'does': 1,\n",
       "         'each': 3,\n",
       "         'word': 3,\n",
       "         'show': 1,\n",
       "         'up': 1,\n",
       "         'in': 1,\n",
       "         'this': 1,\n",
       "         'sentence': 1})"
      ]
     },
     "execution_count": 4,
     "metadata": {},
     "output_type": "execute_result"
    }
   ],
   "source": [
    "s = 'How many times does each word show up in this sentence word times each each word'\n",
    "\n",
    "words = s.split()\n",
    "\n",
    "Counter(words)"
   ]
  },
  {
   "cell_type": "code",
   "execution_count": 5,
   "id": "e2236147",
   "metadata": {},
   "outputs": [
    {
     "data": {
      "text/plain": [
       "[('each', 3), ('word', 3)]"
      ]
     },
     "execution_count": 5,
     "metadata": {},
     "output_type": "execute_result"
    }
   ],
   "source": [
    "# Methods with Counter()\n",
    "c = Counter(words)\n",
    "\n",
    "c.most_common(2)"
   ]
  },
  {
   "cell_type": "markdown",
   "id": "be309d9a",
   "metadata": {},
   "source": [
    "### Common patterns when using the Counter() object"
   ]
  },
  {
   "cell_type": "raw",
   "id": "3cb7e503",
   "metadata": {},
   "source": [
    "sum(c.values())                 # total of all counts\n",
    "c.clear()                       # reset all counts\n",
    "list(c)                         # list unique elements\n",
    "set(c)                          # convert to a set\n",
    "dict(c)                         # convert to a regular dictionary\n",
    "c.items()                       # convert to a list of (elem, cnt) pairs\n",
    "Counter(dict(list_of_pairs))    # convert from a list of (elem, cnt) pairs\n",
    "c.most_common()[:-n-1:-1]       # n least common elements\n",
    "c += Counter()                  # remove zero and negative counts"
   ]
  },
  {
   "cell_type": "markdown",
   "id": "79df199a",
   "metadata": {},
   "source": [
    "### defaultdict"
   ]
  },
  {
   "cell_type": "code",
   "execution_count": 7,
   "id": "7eca1448",
   "metadata": {},
   "outputs": [],
   "source": [
    "from collections import defaultdict"
   ]
  },
  {
   "cell_type": "code",
   "execution_count": 8,
   "id": "4288622a",
   "metadata": {},
   "outputs": [],
   "source": [
    "d = {}"
   ]
  },
  {
   "cell_type": "code",
   "execution_count": 9,
   "id": "2e35668c",
   "metadata": {},
   "outputs": [
    {
     "ename": "KeyError",
     "evalue": "'one'",
     "output_type": "error",
     "traceback": [
      "\u001b[0;31m---------------------------------------------------------------------------\u001b[0m",
      "\u001b[0;31mKeyError\u001b[0m                                  Traceback (most recent call last)",
      "Input \u001b[0;32mIn [9]\u001b[0m, in \u001b[0;36m<cell line: 1>\u001b[0;34m()\u001b[0m\n\u001b[0;32m----> 1\u001b[0m \u001b[43md\u001b[49m\u001b[43m[\u001b[49m\u001b[38;5;124;43m'\u001b[39;49m\u001b[38;5;124;43mone\u001b[39;49m\u001b[38;5;124;43m'\u001b[39;49m\u001b[43m]\u001b[49m\n",
      "\u001b[0;31mKeyError\u001b[0m: 'one'"
     ]
    }
   ],
   "source": [
    "d['one']"
   ]
  },
  {
   "cell_type": "code",
   "execution_count": 10,
   "id": "0af3fb59",
   "metadata": {},
   "outputs": [],
   "source": [
    "d = defaultdict(object)"
   ]
  },
  {
   "cell_type": "code",
   "execution_count": 11,
   "id": "d9ebe710",
   "metadata": {},
   "outputs": [
    {
     "data": {
      "text/plain": [
       "<object at 0x7f2ce308d530>"
      ]
     },
     "execution_count": 11,
     "metadata": {},
     "output_type": "execute_result"
    }
   ],
   "source": [
    "d['one']"
   ]
  },
  {
   "cell_type": "code",
   "execution_count": 12,
   "id": "af0eea4b",
   "metadata": {},
   "outputs": [
    {
     "name": "stdout",
     "output_type": "stream",
     "text": [
      "one\n"
     ]
    }
   ],
   "source": [
    "for item in d:\n",
    "    print(item)"
   ]
  },
  {
   "cell_type": "code",
   "execution_count": 13,
   "id": "2d0e8f2c",
   "metadata": {},
   "outputs": [],
   "source": [
    "d = defaultdict(lambda: 0)"
   ]
  },
  {
   "cell_type": "code",
   "execution_count": 14,
   "id": "39251efa",
   "metadata": {},
   "outputs": [
    {
     "data": {
      "text/plain": [
       "0"
      ]
     },
     "execution_count": 14,
     "metadata": {},
     "output_type": "execute_result"
    }
   ],
   "source": [
    "d['one']"
   ]
  },
  {
   "cell_type": "markdown",
   "id": "165e2a57",
   "metadata": {},
   "source": [
    "### namedtuple"
   ]
  },
  {
   "cell_type": "code",
   "execution_count": 15,
   "id": "743652fa",
   "metadata": {},
   "outputs": [],
   "source": [
    "t = (12,13,14)"
   ]
  },
  {
   "cell_type": "code",
   "execution_count": 16,
   "id": "248e1291",
   "metadata": {},
   "outputs": [
    {
     "data": {
      "text/plain": [
       "12"
      ]
     },
     "execution_count": 16,
     "metadata": {},
     "output_type": "execute_result"
    }
   ],
   "source": [
    "t[0]"
   ]
  },
  {
   "cell_type": "code",
   "execution_count": 17,
   "id": "63e327a6",
   "metadata": {},
   "outputs": [],
   "source": [
    "from collections import namedtuple"
   ]
  },
  {
   "cell_type": "code",
   "execution_count": 18,
   "id": "6b17987e",
   "metadata": {},
   "outputs": [],
   "source": [
    "Dog = namedtuple('Dog',['age','breed','name'])\n",
    "\n",
    "sam = Dog(age=2,breed='Lab',name='Sammy')\n",
    "\n",
    "frank = Dog(age=2,breed='Shepard',name='Frankie')"
   ]
  },
  {
   "cell_type": "code",
   "execution_count": 19,
   "id": "1ee460f1",
   "metadata": {},
   "outputs": [
    {
     "data": {
      "text/plain": [
       "Dog(age=2, breed='Lab', name='Sammy')"
      ]
     },
     "execution_count": 19,
     "metadata": {},
     "output_type": "execute_result"
    }
   ],
   "source": [
    "sam"
   ]
  },
  {
   "cell_type": "code",
   "execution_count": 20,
   "id": "07984b74",
   "metadata": {},
   "outputs": [
    {
     "data": {
      "text/plain": [
       "2"
      ]
     },
     "execution_count": 20,
     "metadata": {},
     "output_type": "execute_result"
    }
   ],
   "source": [
    "sam.age"
   ]
  },
  {
   "cell_type": "code",
   "execution_count": 21,
   "id": "56ce391e",
   "metadata": {},
   "outputs": [
    {
     "data": {
      "text/plain": [
       "'Lab'"
      ]
     },
     "execution_count": 21,
     "metadata": {},
     "output_type": "execute_result"
    }
   ],
   "source": [
    "sam.breed"
   ]
  },
  {
   "cell_type": "code",
   "execution_count": 22,
   "id": "44708b7a",
   "metadata": {},
   "outputs": [
    {
     "data": {
      "text/plain": [
       "'Sammy'"
      ]
     },
     "execution_count": 22,
     "metadata": {},
     "output_type": "execute_result"
    }
   ],
   "source": [
    "sam.name"
   ]
  },
  {
   "cell_type": "code",
   "execution_count": 23,
   "id": "008351ab",
   "metadata": {},
   "outputs": [
    {
     "data": {
      "text/plain": [
       "2"
      ]
     },
     "execution_count": 23,
     "metadata": {},
     "output_type": "execute_result"
    }
   ],
   "source": [
    "sam[0]"
   ]
  }
 ],
 "metadata": {
  "kernelspec": {
   "display_name": "Python 3 (ipykernel)",
   "language": "python",
   "name": "python3"
  },
  "language_info": {
   "codemirror_mode": {
    "name": "ipython",
    "version": 3
   },
   "file_extension": ".py",
   "mimetype": "text/x-python",
   "name": "python",
   "nbconvert_exporter": "python",
   "pygments_lexer": "ipython3",
   "version": "3.10.6"
  }
 },
 "nbformat": 4,
 "nbformat_minor": 5
}
